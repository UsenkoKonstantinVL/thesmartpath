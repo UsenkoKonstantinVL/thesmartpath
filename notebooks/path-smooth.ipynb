{
 "cells": [
  {
   "cell_type": "code",
   "execution_count": null,
   "metadata": {},
   "outputs": [],
   "source": [
    "import numpy as np\n",
    "import scipy\n"
   ]
  },
  {
   "cell_type": "code",
   "execution_count": null,
   "metadata": {},
   "outputs": [],
   "source": [
    "\n",
    "class Controller:\n",
    "    def __init__(self, horizon, dt, distance_threshold, dist_coef, lin_speed_coef, ang_speed_coef, speed_coef, dyaw_coef=1.0):\n",
    "        self.horizon = horizon\n",
    "        self.dt = dt\n",
    "        self.distance_threshold = distance_threshold\n",
    "        self.dist_coef = dist_coef\n",
    "        self.lin_speed_coef = lin_speed_coef\n",
    "        self.ang_speed_coef = ang_speed_coef\n",
    "        self.speed_coef = speed_coef\n",
    "        self.dyaw_coef = dyaw_coef\n",
    "\n",
    "        self.x0 = np.array([0.0] * (2 * self.horizon))\n",
    "        self.bounds = list()\n",
    "        for _ in range(self.horizon):\n",
    "            self.bounds += [[0.0, 0.50]]\n",
    "            self.bounds += [[-0.10, 0.10]]\n",
    "\n",
    "    def step(self, pos, yaw, linear_speed, angular_speed, dt):\n",
    "        # a = (last_speed - linear_speed)\n",
    "        x, y = pos\n",
    "        x = x + linear_speed * np.math.cos(yaw) * dt\n",
    "        y = y + linear_speed * np.math.sin(yaw) * dt\n",
    "        yaw = yaw + angular_speed * dt\n",
    "        return [x, y], yaw\n",
    "\n",
    "    def cost_function(self, u, path):\n",
    "        cur_pos = [initial_pos[0], initial_pos[1]]\n",
    "        cur_yaw = yaw\n",
    "\n",
    "        fv = 0\n",
    "        lv, lw = linear_speed, 0.0\n",
    "        du = 0.0\n",
    "        dyaw = 0.0\n",
    "\n",
    "        cost = 0.0\n",
    "\n",
    "        for i in range(self.horizon):\n",
    "            v, w = u[i*2], u[(i) * 2 + 1]\n",
    "            cur_pos, cur_yaw = self.step(cur_pos, cur_yaw, v, w, self.dt)\n",
    "            fv = v\n",
    "            if lv is not None:\n",
    "                du = self.lin_speed_coef * ((lv - v) ** 2) + self.ang_speed_coef * ((lw - w) ** 2)\n",
    "            # dyaw += \n",
    "            lv = v\n",
    "            lw = w\n",
    "\n",
    "            cost += (cur_pos[0] - target_point[0]) ** 2 + (cur_pos[1] - target_point[1]) ** 2\n",
    "            # cost += du\n",
    "            # cost += (v - target_speed) ** 2\n",
    "            \n",
    "            if self.distance_btw(cur_pos, target_point) < self.distance_threshold:\n",
    "                break\n",
    "\n",
    "        # print(\"Control: {0}, cost: {1}, end pos: {2}\".format(\n",
    "        #     u,\n",
    "        #     self.dist_coef * self.distance_btw(cur_pos, target_point) + \\\n",
    "        #         du + \\\n",
    "        #         self.speed_coef * np.math.fabs(fv - target_speed),\n",
    "        #     cur_pos\n",
    "        # ))\n",
    "        # print(\"Start: {0}, end: {1}, target:{2}, dist to: {3}, cost: {4}\".format(\n",
    "        #     initial_pos,\n",
    "        #     cur_pos,\n",
    "        #     target_point, \n",
    "        #     self.distance_btw(cur_pos, target_point),\n",
    "        #     self.dist_coef * self.distance_btw(cur_pos, target_point) + \\\n",
    "        #         du + self.speed_coef * np.math.fabs(fv - target_speed)\n",
    "        # ))\n",
    "\n",
    "        return cost\n",
    "\n",
    "    def distance_btw(self, cur_pos, target_point):\n",
    "        p1 = np.array(cur_pos)\n",
    "        p2 = np.array(target_point)\n",
    "        return np.linalg.norm(p1 - p2)\n",
    "\n",
    "    def angle_btw_points(self, p1, p2):\n",
    "        return np.math.atan2(p2[1] - p1[1], p2[0] - p1[0])\n",
    "\n",
    "    def calc_control(self, initial_pos, target_point, yaw, linear_speed, target_speed):\n",
    "        # self.x0[0] = linear_speed\n",
    "        # self.x0[1] = angular_speed\n",
    "\n",
    "        self.x0 = np.delete(self.x0, 0)\n",
    "        self.x0 = np.delete(self.x0, 0)\n",
    "        self.x0 = np.append(self.x0, self.x0[-2])\n",
    "        self.x0 = np.append(self.x0, self.x0[-2])\n",
    "\n",
    "        solution = optimize.minimize(self.cost_function, \n",
    "                                     x0=self.x0,  \n",
    "                                     bounds=self.bounds, \n",
    "                                     args=(initial_pos, target_point, yaw, linear_speed, target_speed),\n",
    "                                     method='SLSQP',\n",
    "                                     tol = 1e-8)#,\n",
    "                                    #  options = {'disp': True})\n",
    "        if solution.success:\n",
    "            # print(solution.x)\n",
    "            self.x0 = solution.x\n",
    "            return solution.x[:2]\n",
    "\n",
    "        return None"
   ]
  },
  {
   "cell_type": "code",
   "execution_count": 22,
   "metadata": {},
   "outputs": [
    {
     "ename": "Exception",
     "evalue": "Config option experimental_cpp_jit already defined",
     "output_type": "error",
     "traceback": [
      "\u001b[0;31m---------------------------------------------------------------------------\u001b[0m",
      "\u001b[0;31mException\u001b[0m                                 Traceback (most recent call last)",
      "\u001b[0;32m/tmp/ipykernel_77757/1918681042.py\u001b[0m in \u001b[0;36m<module>\u001b[0;34m\u001b[0m\n\u001b[0;32m----> 1\u001b[0;31m \u001b[0;32mimport\u001b[0m \u001b[0mjax\u001b[0m\u001b[0;34m\u001b[0m\u001b[0;34m\u001b[0m\u001b[0m\n\u001b[0m",
      "\u001b[0;32m~/.local/lib/python3.8/site-packages/jax/__init__.py\u001b[0m in \u001b[0;36m<module>\u001b[0;34m\u001b[0m\n\u001b[1;32m     51\u001b[0m   \u001b[0mnumpy_rank_promotion\u001b[0m \u001b[0;32mas\u001b[0m \u001b[0mnumpy_rank_promotion\u001b[0m\u001b[0;34m,\u001b[0m\u001b[0;34m\u001b[0m\u001b[0;34m\u001b[0m\u001b[0m\n\u001b[1;32m     52\u001b[0m )\n\u001b[0;32m---> 53\u001b[0;31m from ._src.api import (\n\u001b[0m\u001b[1;32m     54\u001b[0m   \u001b[0mad\u001b[0m\u001b[0;34m,\u001b[0m  \u001b[0;31m# TODO(phawkins): update users to avoid this.\u001b[0m\u001b[0;34m\u001b[0m\u001b[0;34m\u001b[0m\u001b[0m\n\u001b[1;32m     55\u001b[0m   \u001b[0mcheckpoint\u001b[0m \u001b[0;32mas\u001b[0m \u001b[0mcheckpoint\u001b[0m\u001b[0;34m,\u001b[0m\u001b[0;34m\u001b[0m\u001b[0;34m\u001b[0m\u001b[0m\n",
      "\u001b[0;32m~/.local/lib/python3.8/site-packages/jax/_src/api.py\u001b[0m in \u001b[0;36m<module>\u001b[0;34m\u001b[0m\n\u001b[1;32m    104\u001b[0m \u001b[0mFLAGS\u001b[0m \u001b[0;34m=\u001b[0m \u001b[0mflags\u001b[0m\u001b[0;34m.\u001b[0m\u001b[0mFLAGS\u001b[0m\u001b[0;34m\u001b[0m\u001b[0;34m\u001b[0m\u001b[0m\n\u001b[1;32m    105\u001b[0m \u001b[0;34m\u001b[0m\u001b[0m\n\u001b[0;32m--> 106\u001b[0;31m flags.DEFINE_bool(\n\u001b[0m\u001b[1;32m    107\u001b[0m     \u001b[0;34m\"experimental_cpp_jit\"\u001b[0m\u001b[0;34m,\u001b[0m \u001b[0mbool_env\u001b[0m\u001b[0;34m(\u001b[0m\u001b[0;34m\"JAX_CPP_JIT\"\u001b[0m\u001b[0;34m,\u001b[0m \u001b[0;32mTrue\u001b[0m\u001b[0;34m)\u001b[0m\u001b[0;34m,\u001b[0m\u001b[0;34m\u001b[0m\u001b[0;34m\u001b[0m\u001b[0m\n\u001b[1;32m    108\u001b[0m     \u001b[0;34m\"A flag enabling the C++ jax.jit fast path.\"\u001b[0m\u001b[0;34m\u001b[0m\u001b[0;34m\u001b[0m\u001b[0m\n",
      "\u001b[0;32m~/.local/lib/python3.8/site-packages/jax/_src/config.py\u001b[0m in \u001b[0;36mDEFINE_bool\u001b[0;34m(self, name, default, *args, **kwargs)\u001b[0m\n\u001b[1;32m    109\u001b[0m   \u001b[0;32mdef\u001b[0m \u001b[0mDEFINE_bool\u001b[0m\u001b[0;34m(\u001b[0m\u001b[0mself\u001b[0m\u001b[0;34m,\u001b[0m \u001b[0mname\u001b[0m\u001b[0;34m,\u001b[0m \u001b[0mdefault\u001b[0m\u001b[0;34m,\u001b[0m \u001b[0;34m*\u001b[0m\u001b[0margs\u001b[0m\u001b[0;34m,\u001b[0m \u001b[0;34m**\u001b[0m\u001b[0mkwargs\u001b[0m\u001b[0;34m)\u001b[0m\u001b[0;34m:\u001b[0m\u001b[0;34m\u001b[0m\u001b[0;34m\u001b[0m\u001b[0m\n\u001b[1;32m    110\u001b[0m     \u001b[0mupdate_hook\u001b[0m \u001b[0;34m=\u001b[0m \u001b[0mkwargs\u001b[0m\u001b[0;34m.\u001b[0m\u001b[0mpop\u001b[0m\u001b[0;34m(\u001b[0m\u001b[0;34m\"update_hook\"\u001b[0m\u001b[0;34m,\u001b[0m \u001b[0;32mNone\u001b[0m\u001b[0;34m)\u001b[0m\u001b[0;34m\u001b[0m\u001b[0;34m\u001b[0m\u001b[0m\n\u001b[0;32m--> 111\u001b[0;31m     \u001b[0mself\u001b[0m\u001b[0;34m.\u001b[0m\u001b[0madd_option\u001b[0m\u001b[0;34m(\u001b[0m\u001b[0mname\u001b[0m\u001b[0;34m,\u001b[0m \u001b[0mdefault\u001b[0m\u001b[0;34m,\u001b[0m \u001b[0mbool\u001b[0m\u001b[0;34m,\u001b[0m \u001b[0margs\u001b[0m\u001b[0;34m,\u001b[0m \u001b[0mkwargs\u001b[0m\u001b[0;34m,\u001b[0m \u001b[0mupdate_hook\u001b[0m\u001b[0;34m=\u001b[0m\u001b[0mupdate_hook\u001b[0m\u001b[0;34m)\u001b[0m\u001b[0;34m\u001b[0m\u001b[0;34m\u001b[0m\u001b[0m\n\u001b[0m\u001b[1;32m    112\u001b[0m \u001b[0;34m\u001b[0m\u001b[0m\n\u001b[1;32m    113\u001b[0m   \u001b[0;32mdef\u001b[0m \u001b[0mDEFINE_integer\u001b[0m\u001b[0;34m(\u001b[0m\u001b[0mself\u001b[0m\u001b[0;34m,\u001b[0m \u001b[0mname\u001b[0m\u001b[0;34m,\u001b[0m \u001b[0mdefault\u001b[0m\u001b[0;34m,\u001b[0m \u001b[0;34m*\u001b[0m\u001b[0margs\u001b[0m\u001b[0;34m,\u001b[0m \u001b[0;34m**\u001b[0m\u001b[0mkwargs\u001b[0m\u001b[0;34m)\u001b[0m\u001b[0;34m:\u001b[0m\u001b[0;34m\u001b[0m\u001b[0;34m\u001b[0m\u001b[0m\n",
      "\u001b[0;32m~/.local/lib/python3.8/site-packages/jax/_src/config.py\u001b[0m in \u001b[0;36madd_option\u001b[0;34m(self, name, default, opt_type, meta_args, meta_kwargs, update_hook)\u001b[0m\n\u001b[1;32m     96\u001b[0m                  update_hook=None):\n\u001b[1;32m     97\u001b[0m     \u001b[0;32mif\u001b[0m \u001b[0mname\u001b[0m \u001b[0;32min\u001b[0m \u001b[0mself\u001b[0m\u001b[0;34m.\u001b[0m\u001b[0mvalues\u001b[0m\u001b[0;34m:\u001b[0m\u001b[0;34m\u001b[0m\u001b[0;34m\u001b[0m\u001b[0m\n\u001b[0;32m---> 98\u001b[0;31m       \u001b[0;32mraise\u001b[0m \u001b[0mException\u001b[0m\u001b[0;34m(\u001b[0m\u001b[0;34m\"Config option {} already defined\"\u001b[0m\u001b[0;34m.\u001b[0m\u001b[0mformat\u001b[0m\u001b[0;34m(\u001b[0m\u001b[0mname\u001b[0m\u001b[0;34m)\u001b[0m\u001b[0;34m)\u001b[0m\u001b[0;34m\u001b[0m\u001b[0;34m\u001b[0m\u001b[0m\n\u001b[0m\u001b[1;32m     99\u001b[0m     \u001b[0mself\u001b[0m\u001b[0;34m.\u001b[0m\u001b[0mvalues\u001b[0m\u001b[0;34m[\u001b[0m\u001b[0mname\u001b[0m\u001b[0;34m]\u001b[0m \u001b[0;34m=\u001b[0m \u001b[0mdefault\u001b[0m\u001b[0;34m\u001b[0m\u001b[0;34m\u001b[0m\u001b[0m\n\u001b[1;32m    100\u001b[0m     \u001b[0mself\u001b[0m\u001b[0;34m.\u001b[0m\u001b[0mmeta\u001b[0m\u001b[0;34m[\u001b[0m\u001b[0mname\u001b[0m\u001b[0;34m]\u001b[0m \u001b[0;34m=\u001b[0m \u001b[0;34m(\u001b[0m\u001b[0mopt_type\u001b[0m\u001b[0;34m,\u001b[0m \u001b[0mmeta_args\u001b[0m\u001b[0;34m,\u001b[0m \u001b[0mmeta_kwargs\u001b[0m\u001b[0;34m)\u001b[0m\u001b[0;34m\u001b[0m\u001b[0;34m\u001b[0m\u001b[0m\n",
      "\u001b[0;31mException\u001b[0m: Config option experimental_cpp_jit already defined"
     ]
    }
   ],
   "source": [
    "import jax"
   ]
  },
  {
   "cell_type": "code",
   "execution_count": null,
   "metadata": {},
   "outputs": [],
   "source": [
    "def objective(x):\n",
    "    return x[0]*x[3]*np.sum(x[:3]) + x[2]\n",
    "def eq_constraints(x):\n",
    "    return np.sum(x**2) - 40\n",
    "def ineq_constrains(x):\n",
    "    return np.prod(x) - 25"
   ]
  },
  {
   "cell_type": "code",
   "execution_count": null,
   "metadata": {},
   "outputs": [],
   "source": [
    "# jit the functions\n",
    "obj_jit = jit(objective)\n",
    "con_eq_jit = jit(eq_constraints)\n",
    "con_ineq_jit = jit(ineq_constrains)\n",
    "# build the derivatives and jit them\n",
    "obj_grad = jit(grad(obj_jit)) # objective gradient\n",
    "obj_hess = jit(jacrev(jacfwd(obj_jit))) # objective hessian\n",
    "con_eq_jac = jit(jacfwd(con_eq_jit)) # jacobian\n",
    "con_ineq_jac = jit(jacfwd(con_ineq_jit)) # jacobian\n",
    "con_eq_hess = jacrev(jacfwd(con_eq_jit)) # hessian\n",
    "con_eq_hessvp = jit(lambda x, v: con_eq_hess(x) * v[0]) # hessian vector-product\n",
    "con_ineq_hess = jacrev(jacfwd(con_ineq_jit)) # hessian\n",
    "con_ineq_hessvp = jit(lambda x, v: con_ineq_hess(x) * v[0]) # hessian vector-product\n",
    "\n",
    "# constraints\n",
    "cons = [{'type': 'eq', 'fun': con_eq_jit, 'jac': con_eq_jac, 'hess': con_eq_hess},\n",
    "{'type': 'ineq', 'fun': con_ineq_jit, 'jac': con_ineq_jac, 'hess': con_ineq_hess}]\n",
    "# starting point\n",
    "x0 = np.array([1, 5, 5, 1])\n",
    "# variable bounds: 1 <= x[i] <= 5\n",
    "bnds = [(1, 5) for _ in range(x0.size)]\n",
    "# executing the solver\n",
    "res = minimize_ipopt(obj_jit, jac=obj_grad, hess=obj_hess,"
   ]
  },
  {
   "cell_type": "code",
   "execution_count": 6,
   "metadata": {},
   "outputs": [
    {
     "data": {
      "text/plain": [
       "5.0"
      ]
     },
     "execution_count": 6,
     "metadata": {},
     "output_type": "execute_result"
    }
   ],
   "source": [
    "m = np.array([\n",
    "        1.0, 2.0\n",
    "    ])\n",
    "m.T.dot(m)"
   ]
  },
  {
   "cell_type": "code",
   "execution_count": 3,
   "metadata": {},
   "outputs": [],
   "source": [
    "x0 = [[2, 0], [2.0, 0.4], [0.4, 0.4], [0.4, 4.6], [4.6, 4.6]]\n",
    "big_x0 = list()\n",
    "for i in range(1, len(x0)):\n",
    "    p1 = np.array(x0[i-1])\n",
    "    p2 = np.array(x0[i])\n",
    "    ds = np.linalg.norm(p1-p2)\n",
    "\n",
    "    s = np.linspace(p1, p2, num=int(ds / 0.1))\n",
    "    big_x0.extend(s.tolist())\n",
    "x0 = np.array(big_x0)"
   ]
  },
  {
   "cell_type": "code",
   "execution_count": 9,
   "metadata": {},
   "outputs": [
    {
     "name": "stdout",
     "output_type": "stream",
     "text": [
      "[2.         0.         2.         0.13333333 2.         0.26666667\n",
      " 2.         0.4        2.         0.4        1.89333333 0.4\n",
      " 1.78666667 0.4        1.68       0.4        1.57333333 0.4\n",
      " 1.46666667 0.4        1.36       0.4        1.25333333 0.4\n",
      " 1.14666667 0.4        1.04       0.4        0.93333333 0.4\n",
      " 0.82666667 0.4        0.72       0.4        0.61333333 0.4\n",
      " 0.50666667 0.4        0.4        0.4        0.4        0.4\n",
      " 0.4        0.505      0.4        0.61       0.4        0.715\n",
      " 0.4        0.82       0.4        0.925      0.4        1.03\n",
      " 0.4        1.135      0.4        1.24       0.4        1.345\n",
      " 0.4        1.45       0.4        1.555      0.4        1.66\n",
      " 0.4        1.765      0.4        1.87       0.4        1.975\n",
      " 0.4        2.08       0.4        2.185      0.4        2.29\n",
      " 0.4        2.395      0.4        2.5        0.4        2.605\n",
      " 0.4        2.71       0.4        2.815      0.4        2.92\n",
      " 0.4        3.025      0.4        3.13       0.4        3.235\n",
      " 0.4        3.34       0.4        3.445      0.4        3.55\n",
      " 0.4        3.655      0.4        3.76       0.4        3.865\n",
      " 0.4        3.97       0.4        4.075      0.4        4.18\n",
      " 0.4        4.285      0.4        4.39       0.4        4.495\n",
      " 0.4        4.6        0.4        4.6        0.505      4.6\n",
      " 0.61       4.6        0.715      4.6        0.82       4.6\n",
      " 0.925      4.6        1.03       4.6        1.135      4.6\n",
      " 1.24       4.6        1.345      4.6        1.45       4.6\n",
      " 1.555      4.6        1.66       4.6        1.765      4.6\n",
      " 1.87       4.6        1.975      4.6        2.08       4.6\n",
      " 2.185      4.6        2.29       4.6        2.395      4.6\n",
      " 2.5        4.6        2.605      4.6        2.71       4.6\n",
      " 2.815      4.6        2.92       4.6        3.025      4.6\n",
      " 3.13       4.6        3.235      4.6        3.34       4.6\n",
      " 3.445      4.6        3.55       4.6        3.655      4.6\n",
      " 3.76       4.6        3.865      4.6        3.97       4.6\n",
      " 4.075      4.6        4.18       4.6        4.285      4.6\n",
      " 4.39       4.6        4.495      4.6        4.6        4.6       ]\n",
      "[2.         0.         2.         0.13333333 2.         0.26666667\n",
      " 2.         0.4        2.         0.4        1.89333333 0.4\n",
      " 1.78666667 0.4        1.68       0.4        1.57333333 0.4\n",
      " 1.46666667 0.4        1.36       0.4        1.25333333 0.4\n",
      " 1.14666667 0.4        1.04       0.4        0.93333333 0.4\n",
      " 0.82666667 0.4        0.72       0.4        0.61333333 0.4\n",
      " 0.50666667 0.4        0.4        0.4        0.4        0.4\n",
      " 0.4        0.505      0.4        0.61       0.4        0.715\n",
      " 0.4        0.82       0.4        0.925      0.4        1.03\n",
      " 0.4        1.135      0.4        1.24       0.4        1.345\n",
      " 0.4        1.45       0.4        1.555      0.4        1.66\n",
      " 0.4        1.765      0.4        1.87       0.4        1.975\n",
      " 0.4        2.08       0.4        2.185      0.4        2.29\n",
      " 0.4        2.395      0.4        2.5        0.4        2.605\n",
      " 0.4        2.71       0.4        2.815      0.4        2.92\n",
      " 0.4        3.025      0.4        3.13       0.4        3.235\n",
      " 0.4        3.34       0.4        3.445      0.4        3.55\n",
      " 0.4        3.655      0.4        3.76       0.4        3.865\n",
      " 0.4        3.97       0.4        4.075      0.4        4.18\n",
      " 0.4        4.285      0.4        4.39       0.4        4.495\n",
      " 0.4        4.6        0.40781251 4.6        0.505      4.6\n",
      " 0.61       4.6        0.715      4.6        0.82       4.6\n",
      " 0.925      4.6        1.03       4.6        1.135      4.6\n",
      " 1.24       4.6        1.345      4.6        1.45       4.6\n",
      " 1.555      4.6        1.66       4.6        1.765      4.6\n",
      " 1.87       4.6        1.975      4.6        2.08       4.6\n",
      " 2.185      4.6        2.29       4.6        2.395      4.6\n",
      " 2.5        4.6        2.605      4.6        2.71       4.6\n",
      " 2.815      4.6        2.92       4.6        3.025      4.6\n",
      " 3.13       4.6        3.235      4.6        3.34       4.6\n",
      " 3.445      4.6        3.55       4.6        3.655      4.6\n",
      " 3.76       4.6        3.865      4.6        3.97       4.6\n",
      " 4.075      4.6        4.18       4.6        4.285      4.6\n",
      " 4.39       4.6        4.495      4.6        4.6        4.6       ]\n"
     ]
    }
   ],
   "source": [
    "import numpy as np\n",
    "from scipy import optimize\n",
    "\n",
    "# x0 = np.array([1.0, 1.0, 1.0, 2.0, 3.0, 4.0, 6.0, 5.0, 7.0, 3.0])\n",
    "# x0 = np.array([ [  0.  ,   0.  ],[  0.3 ,   0.  ],[  1.25,  -0.1 ],\n",
    "#               [  2.1 ,  -0.9 ],[  2.85,  -2.3 ],[  3.8 ,  -3.95],\n",
    "#               [  5.  ,  -5.75],[  6.4 ,  -7.8 ],[  8.05,  -9.9 ],\n",
    "#               [  9.9 , -11.6 ],[ 12.05, -12.85],[ 14.25, -13.7 ],\n",
    "#               [ 16.5 , -13.8 ],[ 19.25, -13.35],[ 21.3 , -12.2 ],\n",
    "#               [ 22.8 , -10.5 ],[ 23.55,  -8.15],[ 22.95,  -6.1 ],\n",
    "#               [ 21.35,  -3.95],[ 19.1 ,  -1.9 ]])\n",
    "x0 = x0.reshape((-1))\n",
    "\n",
    "print(x0)\n",
    "\n",
    "\n",
    "\n",
    "\n",
    "def calc_curvatire(x):\n",
    "    dx_dt = np.gradient(x[:, 0])\n",
    "    dy_dt = np.gradient(x[:, 1])\n",
    "    # velocity = np.array([ [dx_dt[i], dy_dt[i]] for i in range(dx_dt.size)])\n",
    "\n",
    "    ds_dt = np.sqrt(dx_dt * dx_dt + dy_dt * dy_dt)\n",
    "\n",
    "    d2s_dt2 = np.gradient(ds_dt)\n",
    "    d2x_dt2 = np.gradient(dx_dt)\n",
    "    d2y_dt2 = np.gradient(dy_dt)\n",
    "\n",
    "    curvature = np.abs(d2x_dt2 * dy_dt - dx_dt * d2y_dt2) / (dx_dt * dx_dt + dy_dt * dy_dt)**1.5\n",
    "    return curvature\n",
    "\n",
    "\n",
    "def objective(x, x0):\n",
    "    cost = 0\n",
    "    curvature = calc_curvatire(x.reshape(-1, 2))\n",
    "\n",
    "    l = len(x)\n",
    "\n",
    "    x_0 = np.array([x[0], x[1]])\n",
    "    x0_0 = np.array([x0[0], x0[1]])\n",
    "\n",
    "    x_last = np.array([x[l - 2], x[l - 1]])\n",
    "    x0_last = np.array([x0[l - 2], x0[l - 1]])\n",
    "\n",
    "    cost += 100 * (x_0 - x0_0).T.dot(x_0 - x0_0)\n",
    "    cost += 100 * (x_last - x0_last).T.dot(x_last - x0_last)\n",
    "\n",
    "    for i in range(1, int(len(x) / 2) - 1):\n",
    "        x_i = np.array([x[2*i], x[2*i + 1]])\n",
    "        x_1i = np.array([x[2*(i-1)], x[2*(i-1) + 1]])\n",
    "        x_i1 = np.array([x[2*(i+1)], x[2*(i+1) + 1]])\n",
    "\n",
    "        d = x_i - (x_1i + x_i1) / 2.0\n",
    "\n",
    "        x0_i = np.array([\n",
    "            x0[2*i],\n",
    "            x0[2*i + 1]\n",
    "        ])\n",
    "\n",
    "        cost += 0.1 * (x0_i - x_i).T.dot(x0_i - x_i)\n",
    "        cost += d.T.dot(d)\n",
    "        if curvature[i] > 0.3:\n",
    "            cost += 10000000\n",
    "\n",
    "    return cost\n",
    "\n",
    "\n",
    "solution = optimize.minimize(objective, \n",
    "                             x0=x0, \n",
    "                             method='CG',\n",
    "                             args=(x0,),\n",
    "                            #  method='SLSQP',\n",
    "                             tol=1e-8)#,\n",
    "# solution = jax_minimize(objective, \n",
    "#                              x0=x0, \n",
    "#                              method='BFGS',\n",
    "#                              args=(x0,),\n",
    "#                             #  method='SLSQP',\n",
    "#                              tol=1e-2)#,\n",
    "print(solution.x)"
   ]
  },
  {
   "cell_type": "code",
   "execution_count": 10,
   "metadata": {},
   "outputs": [
    {
     "data": {
      "image/png": "[encoded data removed]",
      "text/plain": [
       "<Figure size 432x288 with 1 Axes>"
      ]
     },
     "metadata": {
      "needs_background": "light"
     },
     "output_type": "display_data"
    }
   ],
   "source": [
    "\n",
    "import matplotlib.pyplot as plt\n",
    "%matplotlib inline \n",
    "\n",
    "_x, _y = list(), list()\n",
    "\n",
    "for i in range(int(len(x0) / 2)):\n",
    "    _x.append(x0[i*2])\n",
    "    _y.append(x0[i*2 + 1])\n",
    "\n",
    "plt.plot(_x, _y)\n",
    "\n",
    "_x, _y = list(), list()\n",
    "\n",
    "for i in range(int(len(solution.x) / 2)):\n",
    "    _x.append(solution.x[i*2])\n",
    "    _y.append(solution.x[i*2 + 1])\n",
    "\n",
    "plt.plot(_x, _y)\n",
    "plt.show()"
   ]
  },
  {
   "cell_type": "code",
   "execution_count": 2,
   "metadata": {},
   "outputs": [],
   "source": [
    "import jax.numpy as jnp\n",
    "from jax import grad, jit, vmap\n",
    "from jax import random"
   ]
  },
  {
   "cell_type": "code",
   "execution_count": 6,
   "metadata": {},
   "outputs": [
    {
     "data": {
      "image/png": "[encoded data removed]",
      "text/plain": [
       "<Figure size 432x288 with 1 Axes>"
      ]
     },
     "metadata": {
      "needs_background": "light"
     },
     "output_type": "display_data"
    }
   ],
   "source": [
    "x_jnp = jnp.linspace(0, 10, 1000)\n",
    "y_jnp = 2 * jnp.sin(x_jnp) * jnp.cos(x_jnp)\n",
    "plt.plot(x_jnp, y_jnp);"
   ]
  },
  {
   "cell_type": "code",
   "execution_count": 8,
   "metadata": {},
   "outputs": [],
   "source": [
    "from jax.scipy.optimize import minimize as jax_minimize"
   ]
  },
  {
   "cell_type": "code",
   "execution_count": 17,
   "metadata": {},
   "outputs": [
    {
     "name": "stdout",
     "output_type": "stream",
     "text": [
      "[2.00010124 2.01153957 1.97325609 2.01866021 2.03222004 1.86225321\n",
      " 1.78388442 1.6787574  1.57345377 1.46630348 1.35982458 1.25305364\n",
      " 1.14668173 1.04       0.93333333 0.82666667 0.72       0.61333333\n",
      " 0.50667158 0.40000489] 0.2\n",
      "[ 0.01143833 -0.01342257  0.00356032  0.02948197 -0.0782035  -0.12416781\n",
      " -0.0917479  -0.10521532 -0.10622696 -0.1068146  -0.10662492 -0.10657142\n",
      " -0.10652682 -0.1066742  -0.10666667 -0.10666667 -0.10666667 -0.10666421\n",
      " -0.10666422 -0.10666668] 0.2\n",
      "[-2.48609050e-02 -3.93900500e-03  2.14522750e-02 -4.08819100e-02\n",
      " -7.68248925e-02 -6.77220250e-03  9.47624250e-03 -7.23952750e-03\n",
      " -7.99635000e-04 -1.98980000e-04  1.21585000e-04  4.90500000e-05\n",
      " -5.13865000e-05 -6.99232500e-05  3.76550000e-06 -2.49999993e-10\n",
      "  1.22725000e-06  1.22375000e-06 -1.23425000e-06 -2.46150000e-06] 0.2\n"
     ]
    }
   ],
   "source": [
    "a = np.array([ [  0.  ,   0.  ],[  0.3 ,   0.  ],[  1.25,  -0.1 ],\n",
    "              [  2.1 ,  -0.9 ],[  2.85,  -2.3 ],[  3.8 ,  -3.95],\n",
    "              [  5.  ,  -5.75],[  6.4 ,  -7.8 ],[  8.05,  -9.9 ],\n",
    "              [  9.9 , -11.6 ],[ 12.05, -12.85],[ 14.25, -13.7 ],\n",
    "              [ 16.5 , -13.8 ],[ 19.25, -13.35],[ 21.3 , -12.2 ],\n",
    "              [ 22.8 , -10.5 ],[ 23.55,  -8.15],[ 22.95,  -6.1 ],\n",
    "              [ 21.35,  -3.95],[ 19.1 ,  -1.9 ]])\n",
    "a = np.array([2.00010124e+00, 1.65929338e-04, 2.01153957e+00, 1.30831527e-01,\n",
    " 1.97325609e+00, 2.63169489e-01, 2.01866021e+00, 4.32629455e-01,\n",
    " 2.03222004e+00, 3.91941808e-01, 1.86225321e+00, 3.76343408e-01,\n",
    " 1.78388442e+00 ,4.04446129e-01, 1.67875740e+00, 3.91548370e-01,\n",
    " 1.57345377e+00, 4.07165320e-01, 1.46630348e+00, 3.99805724e-01,\n",
    " 1.35982458e+00, 4.01804618e-01, 1.25305364e+00, 4.01910206e-01,\n",
    " 1.14668173e+00, 3.98237733e-01, 1.04000000e+00, 4.00000005e-01,\n",
    " 9.33333334e-01, 3.99999995e-01, 8.26666667e-01, 3.99999999e-01,\n",
    " 7.20000000e-01, 4.00000001e-01, 6.13333333e-01, 4.00000000e-01,\n",
    " 5.06671575e-01, 4.00000000e-01, 4.00004894e-01, 4.00000000e-01])\n",
    "\n",
    "a = a.reshape((-1, 2))\n",
    "dx_dt = np.gradient(a[:, 0], edge_order=1)\n",
    "dy_dt = np.gradient(a[:, 1],  edge_order=2)\n",
    "velocity = np.array([ [dx_dt[i], dy_dt[i]] for i in range(dx_dt.size)])\n",
    "\n",
    "ds_dt = np.sqrt(dx_dt * dx_dt + dy_dt * dy_dt)\n",
    "\n",
    "d2s_dt2 = np.gradient(ds_dt)\n",
    "d2x_dt2 = np.gradient(dx_dt)\n",
    "d2y_dt2 = np.gradient(dy_dt)\n",
    "\n",
    "curvature = np.abs(d2x_dt2 * dy_dt - dx_dt * d2y_dt2) / (dx_dt * dx_dt + dy_dt * dy_dt)**1.5\n",
    "print(a[:, 0], 1 / 5.0)\n",
    "print(dx_dt, 1 / 5.0)\n",
    "print(d2x_dt2, 1 / 5.0)"
   ]
  },
  {
   "cell_type": "code",
   "execution_count": 61,
   "metadata": {},
   "outputs": [
    {
     "name": "stdout",
     "output_type": "stream",
     "text": [
      "(20, 2)\n"
     ]
    },
    {
     "data": {
      "text/plain": [
       "array([[  0.  ,   0.  ],\n",
       "       [  0.3 ,   0.  ],\n",
       "       [  1.25,  -0.1 ],\n",
       "       [  2.1 ,  -0.9 ],\n",
       "       [  2.85,  -2.3 ],\n",
       "       [  3.8 ,  -3.95],\n",
       "       [  5.  ,  -5.75],\n",
       "       [  6.4 ,  -7.8 ],\n",
       "       [  8.05,  -9.9 ],\n",
       "       [  9.9 , -11.6 ],\n",
       "       [ 12.05, -12.85],\n",
       "       [ 14.25, -13.7 ],\n",
       "       [ 16.5 , -13.8 ],\n",
       "       [ 19.25, -13.35],\n",
       "       [ 21.3 , -12.2 ],\n",
       "       [ 22.8 , -10.5 ],\n",
       "       [ 23.55,  -8.15],\n",
       "       [ 22.95,  -6.1 ],\n",
       "       [ 21.35,  -3.95],\n",
       "       [ 19.1 ,  -1.9 ]])"
      ]
     },
     "execution_count": 61,
     "metadata": {},
     "output_type": "execute_result"
    }
   ],
   "source": [
    "print(a.shape)\n",
    "l = a.reshape((40,))\n",
    "l.reshape((-1, 2))"
   ]
  },
  {
   "cell_type": "code",
   "execution_count": 1,
   "metadata": {},
   "outputs": [
    {
     "data": {
      "text/plain": [
       "0.016666666666666666"
      ]
     },
     "execution_count": 1,
     "metadata": {},
     "output_type": "execute_result"
    }
   ],
   "source": [
    "1 / 60"
   ]
  }
 ],
 "metadata": {
  "interpreter": {
   "hash": "916dbcbb3f70747c44a77c7bcd40155683ae19c65e1c03b4aa3499c5328201f1"
  },
  "kernelspec": {
   "display_name": "Python 3.8.10 64-bit",
   "name": "python3"
  },
  "language_info": {
   "codemirror_mode": {
    "name": "ipython",
    "version": 3
   },
   "file_extension": ".py",
   "mimetype": "text/x-python",
   "name": "python",
   "nbconvert_exporter": "python",
   "pygments_lexer": "ipython3",
   "version": "3.8.10"
  },
  "orig_nbformat": 4
 },
 "nbformat": 4,
 "nbformat_minor": 2
}
